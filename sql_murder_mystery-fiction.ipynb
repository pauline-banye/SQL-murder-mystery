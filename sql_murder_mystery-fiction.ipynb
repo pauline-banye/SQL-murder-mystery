{
 "cells": [
  {
   "cell_type": "markdown",
   "id": "a64e5c9b-a2ee-44e5-922a-1afe428a2d13",
   "metadata": {
    "tags": []
   },
   "source": [
    "# SQL Murder Mystery"
   ]
  },
  {
   "cell_type": "markdown",
   "id": "b3a35bce-4883-4487-91f7-b4a2635856cf",
   "metadata": {
    "tags": []
   },
   "source": [
    "The sql_murder_mystery database\n",
    "A crime has taken place and the detective needs your help. The detective gave you the crime scene report, but you somehow lost it. You vaguely remember that the crime was a ​murder​ that occurred sometime on ​Jan.15, 2018​ and that it took place in ​SQL City​. Start by retrieving the corresponding crime scene report from the police department’s database.\n",
    "\n",
    "<img src=\"https://mystery.knightlab.com/174092-clue-illustration.png?raw=true\" width=100%/>\n",
    "\n",
    "All the clues to this mystery are buried in a huge database, and you need to use SQL to navigate through this vast network of information. Your first step to solving the mystery is to retrieve the corresponding crime scene report from the police department’s database. Below we'll explain from a high level the commands you need to know; whenever you are ready, you can start adapting the examples to create your own SQL commands in search of clues -- you can run any SQL in any of the code boxes, no matter what was in the box when you started.\n",
    "\n",
    "Image\n",
    "Below is an Entity Relationship Diagram (ERD) of the sql-murder-mystery database:\n",
    "\n",
    "<img src=\"https://mystery.knightlab.com/schema.png?raw=true\" width=100%/>\n",
    "\n",
    "Image\n",
    "As can be seen from the ERD, the sql_murder_mystery database consists of 9 tables containing information about movies, cast, genre, and so much more.\n",
    "\n",
    "Let's get started!"
   ]
  },
  {
   "cell_type": "markdown",
   "id": "65f8f2c4-7440-467f-ab2f-9e679df4bfe1",
   "metadata": {
    "tags": []
   },
   "source": [
    "## Loading the database\n",
    "\n",
    "Before you begin, you need to prepare your SQL environment.  You can do this by loading the magic command `%load_ext sql`."
   ]
  },
  {
   "cell_type": "code",
   "execution_count": 1,
   "id": "173e2f3f-01c2-4130-9a0c-8bc1c90aaa37",
   "metadata": {
    "jupyter": {
     "source_hidden": true
    },
    "tags": []
   },
   "outputs": [],
   "source": [
    "# Load and activate the SQL extension to allow us to execute SQL in a Jupyter notebook. \n",
    "# If you get an error here, make sure that mysql and pymysql are installed correctly. \n",
    "\n",
    "%load_ext sql"
   ]
  },
  {
   "cell_type": "markdown",
   "id": "bfa3f469-3333-4d6a-b34b-9a996cf06602",
   "metadata": {
    "tags": []
   },
   "source": [
    "Next, go ahead and load your database. To do this, you will need to ensure you have downloaded the `sql-murder-mystery.db` sqlite file from Athena and have stored it in a known location."
   ]
  },
  {
   "cell_type": "code",
   "execution_count": 2,
   "id": "2efc299a-6a92-46c1-a6e0-d415eb42d03a",
   "metadata": {
    "jupyter": {
     "source_hidden": true
    },
    "tags": []
   },
   "outputs": [
    {
     "data": {
      "text/plain": [
       "'Connected: @../databases/sql-murder-mystery.db'"
      ]
     },
     "execution_count": 2,
     "metadata": {},
     "output_type": "execute_result"
    }
   ],
   "source": [
    "# Establish a connection to the local database using the '%sql' magic command.\n",
    "# Replace 'password' with our connection password and `db_name` with our database name. \n",
    "# If you get an error here, please make sure the database name or password is correct.\n",
    "\n",
    "%sql sqlite:///../databases/sql-murder-mystery.db"
   ]
  },
  {
   "cell_type": "markdown",
   "id": "58c15065",
   "metadata": {
    "tags": []
   },
   "source": [
    "### View all tables in the database"
   ]
  },
  {
   "cell_type": "code",
   "execution_count": 3,
   "id": "adaab7ff",
   "metadata": {
    "tags": []
   },
   "outputs": [
    {
     "name": "stdout",
     "output_type": "stream",
     "text": [
      " * sqlite:///../databases/sql-murder-mystery.db\n",
      "Done.\n"
     ]
    },
    {
     "data": {
      "text/html": [
       "<table>\n",
       "    <thead>\n",
       "        <tr>\n",
       "            <th>name</th>\n",
       "        </tr>\n",
       "    </thead>\n",
       "    <tbody>\n",
       "        <tr>\n",
       "            <td>crime_scene_report</td>\n",
       "        </tr>\n",
       "        <tr>\n",
       "            <td>drivers_license</td>\n",
       "        </tr>\n",
       "        <tr>\n",
       "            <td>facebook_event_checkin</td>\n",
       "        </tr>\n",
       "        <tr>\n",
       "            <td>interview</td>\n",
       "        </tr>\n",
       "        <tr>\n",
       "            <td>get_fit_now_member</td>\n",
       "        </tr>\n",
       "        <tr>\n",
       "            <td>get_fit_now_check_in</td>\n",
       "        </tr>\n",
       "        <tr>\n",
       "            <td>solution</td>\n",
       "        </tr>\n",
       "        <tr>\n",
       "            <td>income</td>\n",
       "        </tr>\n",
       "        <tr>\n",
       "            <td>person</td>\n",
       "        </tr>\n",
       "    </tbody>\n",
       "</table>"
      ],
      "text/plain": [
       "[('crime_scene_report',),\n",
       " ('drivers_license',),\n",
       " ('facebook_event_checkin',),\n",
       " ('interview',),\n",
       " ('get_fit_now_member',),\n",
       " ('get_fit_now_check_in',),\n",
       " ('solution',),\n",
       " ('income',),\n",
       " ('person',)]"
      ]
     },
     "execution_count": 3,
     "metadata": {},
     "output_type": "execute_result"
    }
   ],
   "source": [
    "# View all tables present in the database\n",
    "%sql SELECT name FROM sqlite_master WHERE type='table';"
   ]
  },
  {
   "cell_type": "markdown",
   "id": "1333e373-2b31-41de-9b01-635859d94999",
   "metadata": {
    "tags": []
   },
   "source": [
    "## The investigation begins."
   ]
  },
  {
   "cell_type": "markdown",
   "id": "04b4412d-191a-4f67-aff8-71758fd7b803",
   "metadata": {
    "tags": []
   },
   "source": [
    "Detective Lynn slumped into her worn-out chair, the exhaustion of a long day etched across her face. She stared at the stack of paperwork on her desk, filled with reports on missing cats and petty burglaries. She longed for something more substantial, a case that would truly challenge her investigative skills.\n",
    "\n",
    "As she reached for her coffee mug, the door to her office swung open, and her boss, Captain Anderson, strode in with a stern expression. Lynn straightened up, ready to face whatever new challenge he had for her.\n",
    "\n",
    "**Captain Anderson began _(his gaze penetrating)_**:. _\"Detective Lynn, I need an update on the murder case I assigned you this morning. It's a high-profile one, and we need to solve it quickly.\"_\n",
    "\n",
    "Lynn's heart raced. This was the opportunity she had been waiting for – a chance to delve into the darker side of crime and prove herself capable of handling more than just missing pets and minor thefts.\n",
    "\n",
    "**Lynn**:_\"Sir, I've been gathering information on the victim. I have also considered potential motives, but nothing concrete yet.\"_ \n",
    "Lynn replied, her fingers dancing across the keyboard as she pulled up her notes. \n",
    "\n",
    "He leans against her desk, his eyes narrowing.\n",
    "\n",
    "**Captain Anderson**: _\"We need results, Lynn. The mayor is breathing down my neck on this one. I want you to leave no stone unturned. Find the killer and bring them to justice.\"_.\n",
    "He strides out of her office.\n",
    "\n",
    "**Lynn** _(determination igniting in her eyes)_: _\"I know that the crime was a **​murder​** that occurred sometime on **​Jan.15, 2018​** and that it took place in **​SQL City​.**\"_ she mused. _\"I need to find the crime scene report.\"_ "
   ]
  },
  {
   "cell_type": "code",
   "execution_count": 10,
   "id": "9c1cb2c9-00cd-4ad5-9183-db3f8397dd55",
   "metadata": {
    "tags": []
   },
   "outputs": [
    {
     "name": "stdout",
     "output_type": "stream",
     "text": [
      " * sqlite:///../databases/sql-murder-mystery.db\n",
      "Done.\n"
     ]
    },
    {
     "data": {
      "text/html": [
       "<table>\n",
       "    <thead>\n",
       "        <tr>\n",
       "            <th>date</th>\n",
       "            <th>type</th>\n",
       "            <th>description</th>\n",
       "            <th>city</th>\n",
       "        </tr>\n",
       "    </thead>\n",
       "    <tbody>\n",
       "        <tr>\n",
       "            <td>20180115</td>\n",
       "            <td>murder</td>\n",
       "            <td>Security footage shows that there were 2 witnesses. The first witness lives at the last house on &quot;Northwestern Dr&quot;. The second witness, named Annabel, lives somewhere on &quot;Franklin Ave&quot;.</td>\n",
       "            <td>SQL City</td>\n",
       "        </tr>\n",
       "    </tbody>\n",
       "</table>"
      ],
      "text/plain": [
       "[(20180115, 'murder', 'Security footage shows that there were 2 witnesses. The first witness lives at the last house on \"Northwestern Dr\". The second witness, named Annabel, lives somewhere on \"Franklin Ave\".', 'SQL City')]"
      ]
     },
     "execution_count": 10,
     "metadata": {},
     "output_type": "execute_result"
    }
   ],
   "source": [
    "%%sql\n",
    "/* retrieve the corresponding crime scene report*/\n",
    "\n",
    "SELECT *\n",
    "FROM crime_scene_report\n",
    "WHERE date = 20180115\n",
    "AND type = 'murder'\n",
    "AND city LIKE \"SQL%\";"
   ]
  },
  {
   "cell_type": "markdown",
   "id": "13a7ef81-e626-4c45-8ee8-535b42f18e11",
   "metadata": {},
   "source": [
    "She glances at the crime scene report in her hands, the details of the murder case glaring back at her. Two witnesses – a potential link to the truth she seeks. \n",
    "**Lynn**: _\"Hmmm, I need more information about these witnesses. But first, let me go over their statements, they might have provided more details about what they saw.\"_"
   ]
  },
  {
   "cell_type": "code",
   "execution_count": 5,
   "id": "c8b9ab60-df84-402b-8f83-5697815bf360",
   "metadata": {
    "jupyter": {
     "source_hidden": true
    },
    "tags": []
   },
   "outputs": [
    {
     "name": "stdout",
     "output_type": "stream",
     "text": [
      " * sqlite:///../databases/sql-murder-mystery.db\n",
      "Done.\n"
     ]
    },
    {
     "data": {
      "text/html": [
       "<table>\n",
       "    <thead>\n",
       "        <tr>\n",
       "            <th>name</th>\n",
       "            <th>transcript</th>\n",
       "        </tr>\n",
       "    </thead>\n",
       "    <tbody>\n",
       "        <tr>\n",
       "            <td>Morty Schapiro</td>\n",
       "            <td>I heard a gunshot and then saw a man run out. He had a &quot;Get Fit Now Gym&quot; bag. The membership number on the bag started with &quot;48Z&quot;. Only gold members have those bags. The man got into a car with a plate that included &quot;H42W&quot;.</td>\n",
       "        </tr>\n",
       "        <tr>\n",
       "            <td>Annabel Miller</td>\n",
       "            <td>I saw the murder happen, and I recognized the killer from my gym when I was working out last week on January the 9th.</td>\n",
       "        </tr>\n",
       "    </tbody>\n",
       "</table>"
      ],
      "text/plain": [
       "[('Morty Schapiro', 'I heard a gunshot and then saw a man run out. He had a \"Get Fit Now Gym\" bag. The membership number on the bag started with \"48Z\". Only gold members have those bags. The man got into a car with a plate that included \"H42W\".'),\n",
       " ('Annabel Miller', 'I saw the murder happen, and I recognized the killer from my gym when I was working out last week on January the 9th.')]"
      ]
     },
     "execution_count": 5,
     "metadata": {},
     "output_type": "execute_result"
    }
   ],
   "source": [
    "%%sql\n",
    "/* Check interview table for witness statements*/\n",
    "\n",
    "SELECT p.name, i.transcript\n",
    "FROM person p\n",
    "JOIN interview i\n",
    "ON p.id = i.person_id\n",
    "WHERE (p.name LIKE \"Annabel %\" \n",
    "AND p.address_street_name LIKE \"%Franklin%\")\n",
    "OR p.name = (\n",
    "    SELECT p.name\n",
    "    FROM person p\n",
    "    JOIN interview as i\n",
    "    ON p.id = i.person_id\n",
    "    WHERE p.address_street_name LIKE \"Northwestern Dr%\"\n",
    "    ORDER BY p.address_number DESC\n",
    "    LIMIT 1\n",
    ");"
   ]
  },
  {
   "cell_type": "markdown",
   "id": "4a933bfb-0713-4eeb-a607-13de518cd90a",
   "metadata": {
    "tags": []
   },
   "source": [
    "**Detective Lynn**: _\"I was right! The witnesses provided a treasure trove of information. Both witnesses mention that the killer was connected to a gym. Morty had information about the membership number and car. I need to get to that gym.\"_\n",
    "\n",
    "The next day, Detective Lynn, clad in a sleek black jacket, stands outside the bustling city gym. \n",
    "The vibrant energy of fitness enthusiasts surrounds her, but her focus remains on the task at hand. \n",
    "She approaches the front desk, where a receptionist greets her with a friendly smile. \n",
    "Flashing her badge, Lynn requests access to the gym's member information.\n",
    "The receptionist's demeanor shifts. Realizing the gravity of the situation, she hurridely puts a call to the Manager.\n",
    "\n",
    "The Gym Manager approaches Lyn.\n",
    "**Gym Manager** : _\"Good day Ma'am, unfortunately it is against our policy to release information about our members. You need to come back with a search warrant.\"_\n",
    "\n",
    "**Detective Lynn**: _\"Listen, I'm not here to play games. I'm on the trail of a murderer, and there's a chance they're a member of your gym. If I don't get the information I need, I'll be forced to temporarily shut down this place for obstructing justice. Imagine the fallout – how do you think your members would react when they find out their gym is connected to a murder investigation?\"_\n",
    "\n",
    "Recognizing the urgency, the Gym Manager, fearing the repercussions of closure, eventually relents.\n",
    "\n",
    "**Gym Manager**:_\"Fine. But this better lead to something substantial.\"_\n",
    "\n",
    "Lynn meticulously sifts through the gym records to find a gym member with a gold membership status, membership number starting with \"48Z\" and drove a car with a plate number that included \"H42W\". "
   ]
  },
  {
   "cell_type": "code",
   "execution_count": 12,
   "id": "ba6af4a5-f7dc-4013-85ac-e2ae1af8c9c1",
   "metadata": {},
   "outputs": [
    {
     "name": "stdout",
     "output_type": "stream",
     "text": [
      " * sqlite:///../databases/sql-murder-mystery.db\n",
      "Done.\n"
     ]
    },
    {
     "data": {
      "text/html": [
       "<table>\n",
       "    <thead>\n",
       "        <tr>\n",
       "            <th>name</th>\n",
       "            <th>id</th>\n",
       "            <th>membership_status</th>\n",
       "        </tr>\n",
       "    </thead>\n",
       "    <tbody>\n",
       "        <tr>\n",
       "            <td>Jeremy Bowers</td>\n",
       "            <td>48Z55</td>\n",
       "            <td>gold</td>\n",
       "        </tr>\n",
       "    </tbody>\n",
       "</table>"
      ],
      "text/plain": [
       "[('Jeremy Bowers', '48Z55', 'gold')]"
      ]
     },
     "execution_count": 12,
     "metadata": {},
     "output_type": "execute_result"
    }
   ],
   "source": [
    "%%sql\n",
    "/* \n",
    "To find the potential killer, join and query the drivers_license, get_fit_now_member, get_fit_now_check_in and person tables\n",
    "*/\n",
    "\n",
    "SELECT m.name, m.id, m.membership_status\n",
    "FROM get_fit_now_member m\n",
    "JOIN get_fit_now_check_in ci\n",
    "ON m.id = ci.membership_id\n",
    "JOIN person p\n",
    "ON p.id = m.person_id\n",
    "JOIN drivers_license dl\n",
    "ON dl.id = p.license_id\n",
    "WHERE m.id LIKE \"48Z%\"\n",
    "AND m.membership_status = \"gold\"\n",
    "AND dl.plate_number LIKE \"%H42W%\";"
   ]
  },
  {
   "cell_type": "markdown",
   "id": "2e97c7c8-9bce-42de-9d92-3e2fbb5ae2f2",
   "metadata": {},
   "source": [
    "Her dodgedness paid off! Detective Lynn identified Jeremy Bowers as the potential suspect. Swiftly, she gets more information about him, assembles a team and moves to apprehend Jeremy at his home. "
   ]
  },
  {
   "cell_type": "code",
   "execution_count": 7,
   "id": "f6521077-877b-438b-b86c-378f04f72549",
   "metadata": {
    "tags": []
   },
   "outputs": [
    {
     "name": "stdout",
     "output_type": "stream",
     "text": [
      " * sqlite:///../databases/sql-murder-mystery.db\n",
      "Done.\n"
     ]
    },
    {
     "data": {
      "text/html": [
       "<table>\n",
       "    <thead>\n",
       "        <tr>\n",
       "            <th>id</th>\n",
       "            <th>name</th>\n",
       "            <th>license_id</th>\n",
       "            <th>address_number</th>\n",
       "            <th>address_street_name</th>\n",
       "            <th>ssn</th>\n",
       "        </tr>\n",
       "    </thead>\n",
       "    <tbody>\n",
       "        <tr>\n",
       "            <td>67318</td>\n",
       "            <td>Jeremy Bowers</td>\n",
       "            <td>423327</td>\n",
       "            <td>530</td>\n",
       "            <td>Washington Pl, Apt 3A</td>\n",
       "            <td>871539279</td>\n",
       "        </tr>\n",
       "    </tbody>\n",
       "</table>"
      ],
      "text/plain": [
       "[(67318, 'Jeremy Bowers', 423327, 530, 'Washington Pl, Apt 3A', '871539279')]"
      ]
     },
     "execution_count": 7,
     "metadata": {},
     "output_type": "execute_result"
    }
   ],
   "source": [
    "%%sql\n",
    "\n",
    "SELECT * \n",
    "FROM person\n",
    "WHERE name = \"Jeremy Bowers\";"
   ]
  },
  {
   "cell_type": "markdown",
   "id": "d432511f-eed1-4479-85a8-3f2eea26cb8f",
   "metadata": {},
   "source": [
    "Detective Lynn and her team stand outside the suspect's apartment, the faint glow of a television and the muffled sounds of a movie leaking through\n",
    "\n",
    "Lynn *(whispers to her team)*: _\"Be ready. We go in on my signal.\"_\n",
    "\n",
    "She knocks sharply on the door and the door creaks open. The room is dimly lit, with the eerie blue glow of the television casting shadows on the worn-out furniture. Jeremy, oblivious to their presence, sits engrossed on the sofa with empty beer cans strewn across the floor. Lynn and her team enter the apartment quietly.\n",
    "\n",
    "**Lynn**: \"Hands where I can see them!\"\n",
    "\n",
    "Jeremy is startled, a beer slipping from his hand and clattering to the floor.\n",
    "\n",
    "**Lynn**: _\"Stand up slowly, and keep your hands in the air.\"_\n",
    "\n",
    "Jeremy Bowers: _\"What's going on? Who are you people? How dare you barge into my house? I know my rights!\"_\n",
    "\n",
    "**Lynn** *(flashes her badge)*: _\"Detective Lynn, Homicide. You are under arrest for murder.\"_\n",
    "\n",
    "Jeremy shifts nervously, eyes darting around the apartment, looking for a way out. As Lynn moves to handcuff the suspect, he resists, pushing her to the floor. A struggle ensues but the team quickly brings the situation under control. She reads Jeremy his rights and escorts him, hands cuffed behind his back to the waiting car.\n",
    "\n",
    "Finally at the police station, Jeremy is interrogated, which leads to even more revelations ."
   ]
  },
  {
   "cell_type": "code",
   "execution_count": 13,
   "id": "94500ed3-d1d1-4145-9db1-c437591e6a5e",
   "metadata": {
    "tags": []
   },
   "outputs": [
    {
     "name": "stdout",
     "output_type": "stream",
     "text": [
      " * sqlite:///../databases/sql-murder-mystery.db\n",
      "Done.\n"
     ]
    },
    {
     "data": {
      "text/html": [
       "<table>\n",
       "    <thead>\n",
       "        <tr>\n",
       "            <th>name</th>\n",
       "            <th>transcript</th>\n",
       "        </tr>\n",
       "    </thead>\n",
       "    <tbody>\n",
       "        <tr>\n",
       "            <td>Jeremy Bowers</td>\n",
       "            <td>I was hired by a woman with a lot of money. I don&#x27;t know her name but I know she&#x27;s around 5&#x27;5&quot; (65&quot;) or 5&#x27;7&quot; (67&quot;). She has red hair and she drives a Tesla Model S. I know that she attended the SQL Symphony Concert 3 times in December 2017.<br></td>\n",
       "        </tr>\n",
       "    </tbody>\n",
       "</table>"
      ],
      "text/plain": [
       "[('Jeremy Bowers', 'I was hired by a woman with a lot of money. I don\\'t know her name but I know she\\'s around 5\\'5\" (65\") or 5\\'7\" (67\"). She has red hair and she drives a Tesla Model S. I know that she attended the SQL Symphony Concert 3 times in December 2017.\\n')]"
      ]
     },
     "execution_count": 13,
     "metadata": {},
     "output_type": "execute_result"
    }
   ],
   "source": [
    "%%sql\n",
    "\n",
    "SELECT p.name, i.transcript\n",
    "FROM person p\n",
    "JOIN interview i\n",
    "ON p.id = i.person_id\n",
    "WHERE p.name = \"Jeremy Bowers\";"
   ]
  },
  {
   "cell_type": "markdown",
   "id": "192480a7-dc62-44bd-a44b-9ba7d3d85394",
   "metadata": {},
   "source": [
    "Congrats, you found the murderer! But wait, there's more... If you think you're up for a challenge, try querying the interview transcript of the murderer to find the real villain behind this crime. If you feel especially confident in your SQL skills, try to complete this final step with no more than 2 queries.\n",
    "\n",
    "Jeremy was hired by a lady with red hair who owns a Tesla Model S. I need to query the events table."
   ]
  },
  {
   "cell_type": "code",
   "execution_count": 24,
   "id": "6f998dbe-1a76-4c6a-8b18-bb397de660ff",
   "metadata": {
    "tags": []
   },
   "outputs": [
    {
     "name": "stdout",
     "output_type": "stream",
     "text": [
      " * sqlite:///../databases/sql-murder-mystery.db\n",
      "Done.\n"
     ]
    },
    {
     "data": {
      "text/html": [
       "<table>\n",
       "    <thead>\n",
       "        <tr>\n",
       "            <th>name</th>\n",
       "        </tr>\n",
       "    </thead>\n",
       "    <tbody>\n",
       "        <tr>\n",
       "            <td>Miranda Priestly</td>\n",
       "        </tr>\n",
       "    </tbody>\n",
       "</table>"
      ],
      "text/plain": [
       "[('Miranda Priestly',)]"
      ]
     },
     "execution_count": 24,
     "metadata": {},
     "output_type": "execute_result"
    }
   ],
   "source": [
    "%%sql\n",
    "\n",
    "SELECT DISTINCT(p.name)\n",
    "FROM facebook_event_checkin fb\n",
    "JOIN person p\n",
    "ON fb.person_id = p.id\n",
    "JOIN drivers_license dl\n",
    "ON p.license_id = dl.id\n",
    "WHERE fb.date like '201712%'\n",
    "AND dl.hair_color = 'red'\n",
    "AND dl.car_make = 'Tesla'\n",
    "AND dl.car_model = 'Model S';"
   ]
  },
  {
   "cell_type": "markdown",
   "id": "e03ea918-ede9-417b-b6bb-dcd4f4e4be15",
   "metadata": {},
   "source": [
    "Miranda Priestly is the Villian behind the scenes. She hired Jeremy Bowers to commit the crime."
   ]
  },
  {
   "cell_type": "markdown",
   "id": "20cb9a47-d5e8-4bbe-a8ea-8d8a02bcc890",
   "metadata": {
    "tags": []
   },
   "source": [
    "## THE END."
   ]
  },
  {
   "cell_type": "code",
   "execution_count": null,
   "id": "ceae6263-119f-47ee-851a-c393210fa111",
   "metadata": {},
   "outputs": [],
   "source": []
  }
 ],
 "metadata": {
  "kernelspec": {
   "display_name": "Python 3 (ipykernel)",
   "language": "python",
   "name": "python3"
  },
  "language_info": {
   "codemirror_mode": {
    "name": "ipython",
    "version": 3
   },
   "file_extension": ".py",
   "mimetype": "text/x-python",
   "name": "python",
   "nbconvert_exporter": "python",
   "pygments_lexer": "ipython3",
   "version": "3.8.18"
  }
 },
 "nbformat": 4,
 "nbformat_minor": 5
}
