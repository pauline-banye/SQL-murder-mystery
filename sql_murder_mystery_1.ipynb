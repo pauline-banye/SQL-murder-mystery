{
 "cells": [
  {
   "cell_type": "markdown",
   "id": "a64e5c9b-a2ee-44e5-922a-1afe428a2d13",
   "metadata": {
    "tags": []
   },
   "source": [
    "# SQL Murder Mystery"
   ]
  },
  {
   "cell_type": "markdown",
   "id": "b3a35bce-4883-4487-91f7-b4a2635856cf",
   "metadata": {
    "tags": []
   },
   "source": [
    "The sql_murder_mystery database\n",
    "A crime has taken place and the detective needs your help. The detective gave you the crime scene report, but you somehow lost it. You vaguely remember that the crime was a ​murder​ that occurred sometime on ​Jan.15, 2018​ and that it took place in ​SQL City​. Start by retrieving the corresponding crime scene report from the police department’s database.\n",
    "\n",
    "<img src=\"https://mystery.knightlab.com/174092-clue-illustration.png?raw=true\" width=100%/>\n",
    "\n",
    "All the clues to this mystery are buried in a huge database, and you need to use SQL to navigate through this vast network of information. Your first step to solving the mystery is to retrieve the corresponding crime scene report from the police department’s database. Below we'll explain from a high level the commands you need to know; whenever you are ready, you can start adapting the examples to create your own SQL commands in search of clues -- you can run any SQL in any of the code boxes, no matter what was in the box when you started.\n",
    "\n",
    "Image\n",
    "Below is an Entity Relationship Diagram (ERD) of the sql-murder-mystery database:\n",
    "\n",
    "<img src=\"https://mystery.knightlab.com/schema.png?raw=true\" width=100%/>\n",
    "\n",
    "Image\n",
    "As can be seen from the ERD, the sql_murder_mystery database consists of 9 tables containing information about movies, cast, genre, and so much more.\n",
    "\n",
    "Let's get started!"
   ]
  },
  {
   "cell_type": "markdown",
   "id": "65f8f2c4-7440-467f-ab2f-9e679df4bfe1",
   "metadata": {
    "jp-MarkdownHeadingCollapsed": true,
    "jupyter": {
     "source_hidden": true
    },
    "tags": []
   },
   "source": [
    "## Loading the database\n",
    "\n",
    "Before you begin, you need to prepare your SQL environment.  You can do this by loading the magic command `%load_ext sql`."
   ]
  },
  {
   "cell_type": "code",
   "execution_count": 1,
   "id": "173e2f3f-01c2-4130-9a0c-8bc1c90aaa37",
   "metadata": {
    "jupyter": {
     "source_hidden": true
    },
    "tags": []
   },
   "outputs": [],
   "source": [
    "# Load and activate the SQL extension to allow us to execute SQL in a Jupyter notebook. \n",
    "# If you get an error here, make sure that mysql and pymysql are installed correctly. \n",
    "\n",
    "%load_ext sql"
   ]
  },
  {
   "cell_type": "markdown",
   "id": "bfa3f469-3333-4d6a-b34b-9a996cf06602",
   "metadata": {
    "tags": []
   },
   "source": [
    "Next, go ahead and load your database. To do this, you will need to ensure you have downloaded the `sql-murder-mystery.db` sqlite file from Athena and have stored it in a known location."
   ]
  },
  {
   "cell_type": "code",
   "execution_count": 2,
   "id": "2efc299a-6a92-46c1-a6e0-d415eb42d03a",
   "metadata": {
    "jupyter": {
     "source_hidden": true
    },
    "tags": []
   },
   "outputs": [
    {
     "data": {
      "text/plain": [
       "'Connected: @../databases/sql-murder-mystery.db'"
      ]
     },
     "execution_count": 2,
     "metadata": {},
     "output_type": "execute_result"
    }
   ],
   "source": [
    "# Establish a connection to the local database using the '%sql' magic command.\n",
    "# Replace 'password' with our connection password and `db_name` with our database name. \n",
    "# If you get an error here, please make sure the database name or password is correct.\n",
    "\n",
    "%sql sqlite:///../databases/sql-murder-mystery.db"
   ]
  },
  {
   "cell_type": "markdown",
   "id": "58c15065",
   "metadata": {
    "tags": []
   },
   "source": [
    "### View all tables in the database"
   ]
  },
  {
   "cell_type": "code",
   "execution_count": 3,
   "id": "adaab7ff",
   "metadata": {
    "jupyter": {
     "source_hidden": true
    },
    "tags": []
   },
   "outputs": [
    {
     "name": "stdout",
     "output_type": "stream",
     "text": [
      " * sqlite:///../databases/sql-murder-mystery.db\n",
      "Done.\n"
     ]
    },
    {
     "data": {
      "text/html": [
       "<table>\n",
       "    <thead>\n",
       "        <tr>\n",
       "            <th>name</th>\n",
       "        </tr>\n",
       "    </thead>\n",
       "    <tbody>\n",
       "        <tr>\n",
       "            <td>crime_scene_report</td>\n",
       "        </tr>\n",
       "        <tr>\n",
       "            <td>drivers_license</td>\n",
       "        </tr>\n",
       "        <tr>\n",
       "            <td>facebook_event_checkin</td>\n",
       "        </tr>\n",
       "        <tr>\n",
       "            <td>interview</td>\n",
       "        </tr>\n",
       "        <tr>\n",
       "            <td>get_fit_now_member</td>\n",
       "        </tr>\n",
       "        <tr>\n",
       "            <td>get_fit_now_check_in</td>\n",
       "        </tr>\n",
       "        <tr>\n",
       "            <td>solution</td>\n",
       "        </tr>\n",
       "        <tr>\n",
       "            <td>income</td>\n",
       "        </tr>\n",
       "        <tr>\n",
       "            <td>person</td>\n",
       "        </tr>\n",
       "    </tbody>\n",
       "</table>"
      ],
      "text/plain": [
       "[('crime_scene_report',),\n",
       " ('drivers_license',),\n",
       " ('facebook_event_checkin',),\n",
       " ('interview',),\n",
       " ('get_fit_now_member',),\n",
       " ('get_fit_now_check_in',),\n",
       " ('solution',),\n",
       " ('income',),\n",
       " ('person',)]"
      ]
     },
     "execution_count": 3,
     "metadata": {},
     "output_type": "execute_result"
    }
   ],
   "source": [
    "# View all tables present in the database\n",
    "%sql SELECT name FROM sqlite_master WHERE type='table';"
   ]
  },
  {
   "cell_type": "markdown",
   "id": "1333e373-2b31-41de-9b01-635859d94999",
   "metadata": {
    "tags": []
   },
   "source": [
    "## The investigation begins."
   ]
  },
  {
   "cell_type": "markdown",
   "metadata": {},
   "source": [
    "Examine the crime scene report for details such as the date (January 15, 2018) and location (SQL City) to establish a foundation for the investigation.\n",
    "\n",
    "The report reveals that there were two witnesses to the incident. "
   ]
  },
  {
   "cell_type": "code",
   "execution_count": 4,
   "id": "9c1cb2c9-00cd-4ad5-9183-db3f8397dd55",
   "metadata": {
    "tags": []
   },
   "outputs": [
    {
     "name": "stdout",
     "output_type": "stream",
     "text": [
      " * sqlite:///../databases/sql-murder-mystery.db\n",
      "Done.\n"
     ]
    },
    {
     "data": {
      "text/html": [
       "<table>\n",
       "    <thead>\n",
       "        <tr>\n",
       "            <th>date</th>\n",
       "            <th>type</th>\n",
       "            <th>description</th>\n",
       "            <th>city</th>\n",
       "        </tr>\n",
       "    </thead>\n",
       "    <tbody>\n",
       "        <tr>\n",
       "            <td>20180115</td>\n",
       "            <td>murder</td>\n",
       "            <td>Security footage shows that there were 2 witnesses. The first witness lives at the last house on &quot;Northwestern Dr&quot;. The second witness, named Annabel, lives somewhere on &quot;Franklin Ave&quot;.</td>\n",
       "            <td>SQL City</td>\n",
       "        </tr>\n",
       "    </tbody>\n",
       "</table>"
      ],
      "text/plain": [
       "[(20180115, 'murder', 'Security footage shows that there were 2 witnesses. The first witness lives at the last house on \"Northwestern Dr\". The second witness, named Annabel, lives somewhere on \"Franklin Ave\".', 'SQL City')]"
      ]
     },
     "execution_count": 4,
     "metadata": {},
     "output_type": "execute_result"
    }
   ],
   "source": [
    "%%sql\n",
    "/* Step retrieve the corresponding crime scene report*/\n",
    "\n",
    "SELECT *\n",
    "FROM crime_scene_report\n",
    "WHERE date = 20180115\n",
    "AND type = 'murder'\n",
    "AND city LIKE \"SQL%\";"
   ]
  },
  {
   "cell_type": "markdown",
   "id": "13a7ef81-e626-4c45-8ee8-535b42f18e11",
   "metadata": {},
   "source": [
    "On review of the witness statements and crime scene report there is a connection to a local gym, which is a potential lead in the investigation."
   ]
  },
  {
   "cell_type": "code",
   "execution_count": 5,
   "id": "c8b9ab60-df84-402b-8f83-5697815bf360",
   "metadata": {
    "tags": []
   },
   "outputs": [
    {
     "name": "stdout",
     "output_type": "stream",
     "text": [
      " * sqlite:///../databases/sql-murder-mystery.db\n",
      "Done.\n"
     ]
    },
    {
     "data": {
      "text/html": [
       "<table>\n",
       "    <thead>\n",
       "        <tr>\n",
       "            <th>name</th>\n",
       "            <th>transcript</th>\n",
       "        </tr>\n",
       "    </thead>\n",
       "    <tbody>\n",
       "        <tr>\n",
       "            <td>Morty Schapiro</td>\n",
       "            <td>I heard a gunshot and then saw a man run out. He had a &quot;Get Fit Now Gym&quot; bag. The membership number on the bag started with &quot;48Z&quot;. Only gold members have those bags. The man got into a car with a plate that included &quot;H42W&quot;.</td>\n",
       "        </tr>\n",
       "        <tr>\n",
       "            <td>Annabel Miller</td>\n",
       "            <td>I saw the murder happen, and I recognized the killer from my gym when I was working out last week on January the 9th.</td>\n",
       "        </tr>\n",
       "    </tbody>\n",
       "</table>"
      ],
      "text/plain": [
       "[('Morty Schapiro', 'I heard a gunshot and then saw a man run out. He had a \"Get Fit Now Gym\" bag. The membership number on the bag started with \"48Z\". Only gold members have those bags. The man got into a car with a plate that included \"H42W\".'),\n",
       " ('Annabel Miller', 'I saw the murder happen, and I recognized the killer from my gym when I was working out last week on January the 9th.')]"
      ]
     },
     "execution_count": 5,
     "metadata": {},
     "output_type": "execute_result"
    }
   ],
   "source": [
    "%%sql\n",
    "/* Check interview table for witness statements*/\n",
    "\n",
    "SELECT p.name, i.transcript\n",
    "FROM person p\n",
    "JOIN interview i\n",
    "ON p.id = i.person_id\n",
    "WHERE (p.name LIKE \"Annabel %\" \n",
    "AND p.address_street_name LIKE \"%Franklin%\")\n",
    "OR p.name = (\n",
    "    SELECT p.name\n",
    "    FROM person p\n",
    "    JOIN interview as i\n",
    "    ON p.id = i.person_id\n",
    "    WHERE p.address_street_name LIKE \"Northwestern Dr%\"\n",
    "    ORDER BY p.address_number DESC\n",
    "    LIMIT 1\n",
    ");"
   ]
  },
  {
   "cell_type": "markdown",
   "id": "4a933bfb-0713-4eeb-a607-13de518cd90a",
   "metadata": {
    "tags": []
   },
   "source": [
    "Based on the witness testimony, query the gym records to find a gym member with a gold membership status, membership number starting with \"48Z\", who drives a car with a plate number that included \"H42W\".  "
   ]
  },
  {
   "cell_type": "code",
   "execution_count": 6,
   "id": "ba6af4a5-f7dc-4013-85ac-e2ae1af8c9c1",
   "metadata": {},
   "outputs": [
    {
     "name": "stdout",
     "output_type": "stream",
     "text": [
      " * sqlite:///../databases/sql-murder-mystery.db\n",
      "Done.\n"
     ]
    },
    {
     "data": {
      "text/html": [
       "<table>\n",
       "    <thead>\n",
       "        <tr>\n",
       "            <th>name</th>\n",
       "            <th>id</th>\n",
       "            <th>membership_status</th>\n",
       "        </tr>\n",
       "    </thead>\n",
       "    <tbody>\n",
       "        <tr>\n",
       "            <td>Jeremy Bowers</td>\n",
       "            <td>48Z55</td>\n",
       "            <td>gold</td>\n",
       "        </tr>\n",
       "    </tbody>\n",
       "</table>"
      ],
      "text/plain": [
       "[('Jeremy Bowers', '48Z55', 'gold')]"
      ]
     },
     "execution_count": 6,
     "metadata": {},
     "output_type": "execute_result"
    }
   ],
   "source": [
    "%%sql\n",
    "/*To find the potential killer, join and query the drivers_license, get_fit_now_member, get_fit_now_check_in and person tables*/\n",
    "\n",
    "SELECT m.name, m.id, m.membership_status\n",
    "FROM get_fit_now_member m\n",
    "JOIN get_fit_now_check_in ci\n",
    "ON m.id = ci.membership_id\n",
    "JOIN person p\n",
    "ON p.id = m.person_id\n",
    "JOIN drivers_license dl\n",
    "ON dl.id = p.license_id\n",
    "WHERE m.id LIKE \"48Z%\"\n",
    "AND m.membership_status = \"gold\"\n",
    "AND dl.plate_number LIKE \"%H42W%\";"
   ]
  },
  {
   "cell_type": "markdown",
   "id": "2e97c7c8-9bce-42de-9d92-3e2fbb5ae2f2",
   "metadata": {},
   "source": [
    "Congrats, you found the murderer! But wait, there's more... If you think you're up for a challenge, try querying the interview transcript of the murderer to find the real villain behind this crime. If you feel especially confident in your SQL skills, try to complete this final step with no more than 2 queries.\n",
    "\n",
    "To find the real villian, review the transcript of the interview with Jeremy Bowers. "
   ]
  },
  {
   "cell_type": "code",
   "execution_count": 7,
   "id": "94500ed3-d1d1-4145-9db1-c437591e6a5e",
   "metadata": {
    "tags": []
   },
   "outputs": [
    {
     "name": "stdout",
     "output_type": "stream",
     "text": [
      " * sqlite:///../databases/sql-murder-mystery.db\n",
      "Done.\n"
     ]
    },
    {
     "data": {
      "text/html": [
       "<table>\n",
       "    <thead>\n",
       "        <tr>\n",
       "            <th>name</th>\n",
       "            <th>transcript</th>\n",
       "        </tr>\n",
       "    </thead>\n",
       "    <tbody>\n",
       "        <tr>\n",
       "            <td>Jeremy Bowers</td>\n",
       "            <td>I was hired by a woman with a lot of money. I don&#x27;t know her name but I know she&#x27;s around 5&#x27;5&quot; (65&quot;) or 5&#x27;7&quot; (67&quot;). She has red hair and she drives a Tesla Model S. I know that she attended the SQL Symphony Concert 3 times in December 2017.<br></td>\n",
       "        </tr>\n",
       "    </tbody>\n",
       "</table>"
      ],
      "text/plain": [
       "[('Jeremy Bowers', 'I was hired by a woman with a lot of money. I don\\'t know her name but I know she\\'s around 5\\'5\" (65\") or 5\\'7\" (67\"). She has red hair and she drives a Tesla Model S. I know that she attended the SQL Symphony Concert 3 times in December 2017.\\n')]"
      ]
     },
     "execution_count": 7,
     "metadata": {},
     "output_type": "execute_result"
    }
   ],
   "source": [
    "%%sql\n",
    "\n",
    "SELECT p.name, i.transcript\n",
    "FROM person p\n",
    "JOIN interview i\n",
    "ON p.id = i.person_id\n",
    "WHERE p.name = \"Jeremy Bowers\";"
   ]
  },
  {
   "cell_type": "markdown",
   "id": "192480a7-dc62-44bd-a44b-9ba7d3d85394",
   "metadata": {},
   "source": [
    "Jeremy was hired by a lady with red hair who owns a Tesla Model S. To identify the lady, join and query the events, person and drivers license tables."
   ]
  },
  {
   "cell_type": "code",
   "execution_count": 8,
   "id": "6f998dbe-1a76-4c6a-8b18-bb397de660ff",
   "metadata": {
    "tags": []
   },
   "outputs": [
    {
     "name": "stdout",
     "output_type": "stream",
     "text": [
      " * sqlite:///../databases/sql-murder-mystery.db\n",
      "Done.\n"
     ]
    },
    {
     "data": {
      "text/html": [
       "<table>\n",
       "    <thead>\n",
       "        <tr>\n",
       "            <th>name</th>\n",
       "        </tr>\n",
       "    </thead>\n",
       "    <tbody>\n",
       "        <tr>\n",
       "            <td>Miranda Priestly</td>\n",
       "        </tr>\n",
       "    </tbody>\n",
       "</table>"
      ],
      "text/plain": [
       "[('Miranda Priestly',)]"
      ]
     },
     "execution_count": 8,
     "metadata": {},
     "output_type": "execute_result"
    }
   ],
   "source": [
    "%%sql\n",
    "\n",
    "SELECT DISTINCT(p.name)\n",
    "FROM facebook_event_checkin fb\n",
    "JOIN person p\n",
    "ON fb.person_id = p.id\n",
    "JOIN drivers_license dl\n",
    "ON p.license_id = dl.id\n",
    "WHERE fb.date like '201712%'\n",
    "AND dl.hair_color = 'red'\n",
    "AND dl.car_make = 'Tesla'\n",
    "AND dl.car_model = 'Model S';"
   ]
  },
  {
   "cell_type": "markdown",
   "id": "e03ea918-ede9-417b-b6bb-dcd4f4e4be15",
   "metadata": {},
   "source": [
    "Miranda Priestly is the Villian behind the scenes. She hired Jeremy Bowers to commit the crime."
   ]
  },
  {
   "cell_type": "markdown",
   "id": "20cb9a47-d5e8-4bbe-a8ea-8d8a02bcc890",
   "metadata": {
    "tags": []
   },
   "source": [
    "## THE END."
   ]
  }
 ],
 "metadata": {
  "kernelspec": {
   "display_name": "Python 3 (ipykernel)",
   "language": "python",
   "name": "python3"
  },
  "language_info": {
   "codemirror_mode": {
    "name": "ipython",
    "version": 3
   },
   "file_extension": ".py",
   "mimetype": "text/x-python",
   "name": "python",
   "nbconvert_exporter": "python",
   "pygments_lexer": "ipython3",
   "version": "3.8.18"
  }
 },
 "nbformat": 4,
 "nbformat_minor": 5
}
